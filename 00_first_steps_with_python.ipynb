{
  "nbformat": 4,
  "nbformat_minor": 0,
  "metadata": {
    "colab": {
      "name": "00_first_steps_with_python.ipynb",
      "provenance": [],
      "collapsed_sections": [],
      "authorship_tag": "ABX9TyP4nkGk5oSuPxBJ/y8Tpj1J",
      "include_colab_link": true
    },
    "kernelspec": {
      "name": "python3",
      "display_name": "Python 3"
    }
  },
  "cells": [
    {
      "cell_type": "markdown",
      "metadata": {
        "id": "view-in-github",
        "colab_type": "text"
      },
      "source": [
        "<a href=\"https://colab.research.google.com/github/rocks2021/pytorch-Deep-Learning/blob/master/00_first_steps_with_python.ipynb\" target=\"_parent\"><img src=\"https://colab.research.google.com/assets/colab-badge.svg\" alt=\"Open In Colab\"/></a>"
      ]
    },
    {
      "cell_type": "markdown",
      "metadata": {
        "id": "-mDkDmweZLjy"
      },
      "source": [
        "## A Taste of Python\n",
        "* The Python Tutorial for Version 3.9.1:\n",
        "https://docs.python.org/3/tutorial/index.html\n",
        "* Think Python 2e: https://greenteapress.com/wp/think-python-2e/\n",
        "* Colab features: https://colab.research.google.com/notebooks/basic_features_overview.ipynb. \n",
        "* A notebook is a list of cells. Cells contain either explanatory text or executable code and its output.\n",
        "* Click the Play icon to run the cell.\n",
        "* Type Cmd/Ctrl+Enter to run the cell in place.\n",
        "* Type Shift+Enter to run the cell and move to next cell.\n",
        "* Type Alt+Enter to run the cell and insert a new cell below it.\n",
        "\n",
        "\n",
        "\n"
      ]
    },
    {
      "cell_type": "markdown",
      "metadata": {
        "id": "TtPlEBR-GDNQ"
      },
      "source": [
        "## Check Python Version"
      ]
    },
    {
      "cell_type": "code",
      "metadata": {
        "colab": {
          "base_uri": "https://localhost:8080/"
        },
        "id": "z61e5JIgZSGM",
        "outputId": "593c7f4b-0002-4b52-e22a-c8347315c606"
      },
      "source": [
        "import sys\n",
        "print(sys.version)"
      ],
      "execution_count": 1,
      "outputs": [
        {
          "output_type": "stream",
          "text": [
            "3.6.9 (default, Oct  8 2020, 12:12:24) \n",
            "[GCC 8.4.0]\n"
          ],
          "name": "stdout"
        }
      ]
    },
    {
      "cell_type": "markdown",
      "metadata": {
        "id": "ldYxhSM_GMLb"
      },
      "source": [
        "## The First Program: Hello, World!\n",
        "* The parentheses indicate that print is a function.\n",
        "* The quotation marks the beginning and the end of the text to be displayed; they don't appear in the result.\n"
      ]
    },
    {
      "cell_type": "code",
      "metadata": {
        "colab": {
          "base_uri": "https://localhost:8080/"
        },
        "id": "iqN2l_KmKAy7",
        "outputId": "62b7619b-f3e1-4640-caaa-6df209aef799"
      },
      "source": [
        "print('Hello, World!')"
      ],
      "execution_count": 2,
      "outputs": [
        {
          "output_type": "stream",
          "text": [
            "Hello, World!\n"
          ],
          "name": "stdout"
        }
      ]
    },
    {
      "cell_type": "code",
      "metadata": {
        "colab": {
          "base_uri": "https://localhost:8080/"
        },
        "id": "eyA-f-CuJsHz",
        "outputId": "b0ac9a0c-7ad0-4b5f-fcfa-dd6bc5303d5d"
      },
      "source": [
        "print('user/Henry/Desktop/')"
      ],
      "execution_count": 3,
      "outputs": [
        {
          "output_type": "stream",
          "text": [
            "user/Henry/Desktop/\n"
          ],
          "name": "stdout"
        }
      ]
    },
    {
      "cell_type": "code",
      "metadata": {
        "colab": {
          "base_uri": "https://localhost:8080/"
        },
        "id": "eK9M212OZBg5",
        "outputId": "a713c32e-104d-4c15-bdb4-71abc9d46879"
      },
      "source": [
        "print('Adam','Bob','Cathy')"
      ],
      "execution_count": 4,
      "outputs": [
        {
          "output_type": "stream",
          "text": [
            "Adam Bob Cathy\n"
          ],
          "name": "stdout"
        }
      ]
    },
    {
      "cell_type": "code",
      "metadata": {
        "colab": {
          "base_uri": "https://localhost:8080/"
        },
        "id": "iGCTJfXEZMH_",
        "outputId": "5c0855aa-c673-4a62-efb2-4b12fce73a3d"
      },
      "source": [
        "print('Hello', 'how are you?', sep='---')"
      ],
      "execution_count": 5,
      "outputs": [
        {
          "output_type": "stream",
          "text": [
            "Hello---how are you?\n"
          ],
          "name": "stdout"
        }
      ]
    },
    {
      "cell_type": "markdown",
      "metadata": {
        "id": "_3B_e6XVZzF5"
      },
      "source": [
        "## Python can be used as a calculator"
      ]
    },
    {
      "cell_type": "code",
      "metadata": {
        "colab": {
          "base_uri": "https://localhost:8080/"
        },
        "id": "qiOIuFntZ1rA",
        "outputId": "c5869931-6654-4127-b657-5e8c72b35c78"
      },
      "source": [
        "115+997"
      ],
      "execution_count": 6,
      "outputs": [
        {
          "output_type": "execute_result",
          "data": {
            "text/plain": [
              "1112"
            ]
          },
          "metadata": {
            "tags": []
          },
          "execution_count": 6
        }
      ]
    },
    {
      "cell_type": "code",
      "metadata": {
        "colab": {
          "base_uri": "https://localhost:8080/"
        },
        "id": "18ztoTdLKG0j",
        "outputId": "7fa01de5-54be-41ac-bde9-ffa357182370"
      },
      "source": [
        "29454616-82663"
      ],
      "execution_count": 7,
      "outputs": [
        {
          "output_type": "execute_result",
          "data": {
            "text/plain": [
              "29371953"
            ]
          },
          "metadata": {
            "tags": []
          },
          "execution_count": 7
        }
      ]
    },
    {
      "cell_type": "code",
      "metadata": {
        "colab": {
          "base_uri": "https://localhost:8080/"
        },
        "id": "DT2ZyhHVMzOe",
        "outputId": "e70dd8b2-067a-4f7e-b034-e1fca4c8923e"
      },
      "source": [
        "277*9587"
      ],
      "execution_count": 8,
      "outputs": [
        {
          "output_type": "execute_result",
          "data": {
            "text/plain": [
              "2655599"
            ]
          },
          "metadata": {
            "tags": []
          },
          "execution_count": 8
        }
      ]
    },
    {
      "cell_type": "code",
      "metadata": {
        "colab": {
          "base_uri": "https://localhost:8080/"
        },
        "id": "hTXE5iNuM4pa",
        "outputId": "9d8d92bb-d3d7-442d-cd94-99916526e7a6"
      },
      "source": [
        "9796356/25677 # Division (/) returns a float (floating-point number)."
      ],
      "execution_count": 9,
      "outputs": [
        {
          "output_type": "execute_result",
          "data": {
            "text/plain": [
              "381.5226077812829"
            ]
          },
          "metadata": {
            "tags": []
          },
          "execution_count": 9
        }
      ]
    },
    {
      "cell_type": "code",
      "metadata": {
        "colab": {
          "base_uri": "https://localhost:8080/"
        },
        "id": "Gm5BCGxiNQup",
        "outputId": "95073b89-d867-4d10-8b80-05a8b2003160"
      },
      "source": [
        "8/5"
      ],
      "execution_count": 10,
      "outputs": [
        {
          "output_type": "execute_result",
          "data": {
            "text/plain": [
              "1.6"
            ]
          },
          "metadata": {
            "tags": []
          },
          "execution_count": 10
        }
      ]
    },
    {
      "cell_type": "code",
      "metadata": {
        "colab": {
          "base_uri": "https://localhost:8080/"
        },
        "id": "moWY1wmVM7xE",
        "outputId": "a14a7b4c-3b40-4784-bb24-271ab5703542"
      },
      "source": [
        "8//5 # Floor division (//) discards the fractional part and returns the integer part."
      ],
      "execution_count": 11,
      "outputs": [
        {
          "output_type": "execute_result",
          "data": {
            "text/plain": [
              "1"
            ]
          },
          "metadata": {
            "tags": []
          },
          "execution_count": 11
        }
      ]
    },
    {
      "cell_type": "code",
      "metadata": {
        "colab": {
          "base_uri": "https://localhost:8080/"
        },
        "id": "6nm4rlBLNNjL",
        "outputId": "4a8bc0aa-dd76-4bce-b9ed-6cba21b2fcac"
      },
      "source": [
        "8%5 # (%) returns the remainder of the division. Five goes into eight one time and there is three left over."
      ],
      "execution_count": 12,
      "outputs": [
        {
          "output_type": "execute_result",
          "data": {
            "text/plain": [
              "3"
            ]
          },
          "metadata": {
            "tags": []
          },
          "execution_count": 12
        }
      ]
    },
    {
      "cell_type": "code",
      "metadata": {
        "colab": {
          "base_uri": "https://localhost:8080/"
        },
        "id": "8xZjRtTrNeK3",
        "outputId": "91bbc32d-9f2d-4f95-f7a0-8a6aa0329213"
      },
      "source": [
        "17%4 # Four goes into seventeen four times and there is 1 left over."
      ],
      "execution_count": 13,
      "outputs": [
        {
          "output_type": "execute_result",
          "data": {
            "text/plain": [
              "1"
            ]
          },
          "metadata": {
            "tags": []
          },
          "execution_count": 13
        }
      ]
    },
    {
      "cell_type": "code",
      "metadata": {
        "colab": {
          "base_uri": "https://localhost:8080/"
        },
        "id": "A0vegHTUWsNz",
        "outputId": "38b11fa6-189b-4c5f-c5b7-6b6ba9e975d6"
      },
      "source": [
        "4%17 # Seventeen goes not go into four any times so the original four is still left over."
      ],
      "execution_count": 14,
      "outputs": [
        {
          "output_type": "execute_result",
          "data": {
            "text/plain": [
              "4"
            ]
          },
          "metadata": {
            "tags": []
          },
          "execution_count": 14
        }
      ]
    },
    {
      "cell_type": "code",
      "metadata": {
        "colab": {
          "base_uri": "https://localhost:8080/"
        },
        "id": "euRy76fBX5Y-",
        "outputId": "a9a3fe2e-3bce-4473-fd13-963a02ec2421"
      },
      "source": [
        "width = 17 # The variable width is defined (assigned a value of 17).\n",
        "height = 77\n",
        "width * height"
      ],
      "execution_count": 15,
      "outputs": [
        {
          "output_type": "execute_result",
          "data": {
            "text/plain": [
              "1309"
            ]
          },
          "metadata": {
            "tags": []
          },
          "execution_count": 15
        }
      ]
    },
    {
      "cell_type": "code",
      "metadata": {
        "colab": {
          "base_uri": "https://localhost:8080/"
        },
        "id": "WZrelPc9YCNX",
        "outputId": "020ef80b-7b82-4cca-93cb-9fb341b8aaa1"
      },
      "source": [
        "177 * 2.75 -8.36 * 2 ** 4"
      ],
      "execution_count": 16,
      "outputs": [
        {
          "output_type": "execute_result",
          "data": {
            "text/plain": [
              "352.99"
            ]
          },
          "metadata": {
            "tags": []
          },
          "execution_count": 16
        }
      ]
    },
    {
      "cell_type": "code",
      "metadata": {
        "colab": {
          "base_uri": "https://localhost:8080/"
        },
        "id": "iQ44Rs-QOdHK",
        "outputId": "cc2c24cb-2f5a-415e-9981-bd1a508ab4df"
      },
      "source": [
        "5**2 # 5 squared"
      ],
      "execution_count": 17,
      "outputs": [
        {
          "output_type": "execute_result",
          "data": {
            "text/plain": [
              "25"
            ]
          },
          "metadata": {
            "tags": []
          },
          "execution_count": 17
        }
      ]
    },
    {
      "cell_type": "code",
      "metadata": {
        "colab": {
          "base_uri": "https://localhost:8080/"
        },
        "id": "S0tR3vdeOlGL",
        "outputId": "06e7d009-d43d-428f-f157-aa2436b27049"
      },
      "source": [
        "2**7 # 2 to the power of 7."
      ],
      "execution_count": 18,
      "outputs": [
        {
          "output_type": "execute_result",
          "data": {
            "text/plain": [
              "128"
            ]
          },
          "metadata": {
            "tags": []
          },
          "execution_count": 18
        }
      ]
    },
    {
      "cell_type": "markdown",
      "metadata": {
        "id": "rsLgMCSdU49w"
      },
      "source": [
        "## Jupyter's Magics"
      ]
    },
    {
      "cell_type": "code",
      "metadata": {
        "colab": {
          "base_uri": "https://localhost:8080/",
          "height": 36
        },
        "id": "eToSPB9oQt25",
        "outputId": "71e4fd91-191b-4031-daa5-b0e8065c447e"
      },
      "source": [
        "%%html\n",
        "<marquee bgcolor=yellow style='color:blue' behavior=scroll ><b>Hello!</b></marquee>"
      ],
      "execution_count": 19,
      "outputs": [
        {
          "output_type": "display_data",
          "data": {
            "text/html": [
              "<marquee bgcolor=yellow style='color:blue' behavior=scroll ><b>Hello!</b></marquee>"
            ],
            "text/plain": [
              "<IPython.core.display.HTML object>"
            ]
          },
          "metadata": {
            "tags": []
          }
        }
      ]
    },
    {
      "cell_type": "code",
      "metadata": {
        "colab": {
          "base_uri": "https://localhost:8080/",
          "height": 36
        },
        "id": "Yft2KO4dSMAB",
        "outputId": "49abf715-9832-4724-d5aa-69b402ed0988"
      },
      "source": [
        "%%html\n",
        "<marquee bgcolor=red style='color:white' behavior=slide ><b>Hi!</b></marquee>"
      ],
      "execution_count": 20,
      "outputs": [
        {
          "output_type": "display_data",
          "data": {
            "text/html": [
              "<marquee bgcolor=red style='color:white' behavior=slide ><b>Hi!</b></marquee>"
            ],
            "text/plain": [
              "<IPython.core.display.HTML object>"
            ]
          },
          "metadata": {
            "tags": []
          }
        }
      ]
    },
    {
      "cell_type": "code",
      "metadata": {
        "colab": {
          "base_uri": "https://localhost:8080/",
          "height": 36
        },
        "id": "Gx-8TaPjS7yU",
        "outputId": "6b8a974f-fcc0-44ef-fed8-4ce309e98af7"
      },
      "source": [
        "%%html\n",
        "<marquee bgcolor=blue style='color:white' behavior=alternate><b>Hi!</b></marquee>"
      ],
      "execution_count": 21,
      "outputs": [
        {
          "output_type": "display_data",
          "data": {
            "text/html": [
              "<marquee bgcolor=blue style='color:white' behavior=alternate><b>Hi!</b></marquee>"
            ],
            "text/plain": [
              "<IPython.core.display.HTML object>"
            ]
          },
          "metadata": {
            "tags": []
          }
        }
      ]
    },
    {
      "cell_type": "code",
      "metadata": {
        "colab": {
          "base_uri": "https://localhost:8080/",
          "height": 322
        },
        "id": "f9UPtHW2UKOz",
        "outputId": "78a3222a-a457-4213-cc9e-c03657695dc1"
      },
      "source": [
        "%%html\n",
        "<svg xmlns=\"http://www.w3.org/2000/svg\" viewBox=\"0 0 450 400\" width=\"300\" height=\"300\">\n",
        "<rect x=\"80\" y=\"60\" width=\"250\" height=\"250\" style=\"fill:red; stroke:green; fill-opacity:0.7\" />\n",
        "<rect x=\"180\" y=\"110\" width=\"250\" height=\"250\" rx=\"40\" style=\"fill:blue; stroke:yellow; fill-opacity:0.5;\" />\n",
        "</svg>"
      ],
      "execution_count": 22,
      "outputs": [
        {
          "output_type": "display_data",
          "data": {
            "text/html": [
              "<svg xmlns=\"http://www.w3.org/2000/svg\" viewBox=\"0 0 450 400\" width=\"300\" height=\"300\">\n",
              "<rect x=\"80\" y=\"60\" width=\"250\" height=\"250\" style=\"fill:red; stroke:green; fill-opacity:0.7\" />\n",
              "<rect x=\"180\" y=\"110\" width=\"250\" height=\"250\" rx=\"40\" style=\"fill:blue; stroke:yellow; fill-opacity:0.5;\" />\n",
              "</svg>"
            ],
            "text/plain": [
              "<IPython.core.display.HTML object>"
            ]
          },
          "metadata": {
            "tags": []
          }
        }
      ]
    }
  ]
}