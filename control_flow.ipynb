{
  "nbformat": 4,
  "nbformat_minor": 0,
  "metadata": {
    "colab": {
      "name": "control_flow.ipynb",
      "provenance": [],
      "collapsed_sections": [],
      "authorship_tag": "ABX9TyM0BHZjzazah82lnIjyxz6/",
      "include_colab_link": true
    },
    "kernelspec": {
      "name": "python3",
      "display_name": "Python 3"
    }
  },
  "cells": [
    {
      "cell_type": "markdown",
      "metadata": {
        "id": "view-in-github",
        "colab_type": "text"
      },
      "source": [
        "<a href=\"https://colab.research.google.com/github/rocks2021/pytorch-Deep-Learning/blob/master/control_flow.ipynb\" target=\"_parent\"><img src=\"https://colab.research.google.com/assets/colab-badge.svg\" alt=\"Open In Colab\"/></a>"
      ]
    },
    {
      "cell_type": "markdown",
      "metadata": {
        "id": "E4q_sUpAnhSx"
      },
      "source": [
        "# Control Flow in Python\n",
        "## Comparision Operations\n",
        "* greater than: >\n",
        "* less than: <\n",
        "* greater than or equal to: >=\n",
        "* less than or equal to: <=\n",
        "* equal to: ==\n",
        "* not equal to: !=\n",
        "* identical object: is\n",
        "* not identical object: is not\n",
        "\n",
        "\n",
        "\n"
      ]
    },
    {
      "cell_type": "code",
      "metadata": {
        "colab": {
          "base_uri": "https://localhost:8080/"
        },
        "id": "b-j1yC8Fokvn",
        "outputId": "d75a3d30-3c7a-4510-a2de-a0eb9acde9ba"
      },
      "source": [
        "name = 'sandstone'\n",
        "name == 'sandstone'"
      ],
      "execution_count": 1,
      "outputs": [
        {
          "output_type": "execute_result",
          "data": {
            "text/plain": [
              "True"
            ]
          },
          "metadata": {
            "tags": []
          },
          "execution_count": 1
        }
      ]
    },
    {
      "cell_type": "code",
      "metadata": {
        "colab": {
          "base_uri": "https://localhost:8080/"
        },
        "id": "HADGH4ozoLNG",
        "outputId": "4463808b-6d8e-4892-b59d-0148d4e922eb"
      },
      "source": [
        "name != 'basalt'"
      ],
      "execution_count": 2,
      "outputs": [
        {
          "output_type": "execute_result",
          "data": {
            "text/plain": [
              "True"
            ]
          },
          "metadata": {
            "tags": []
          },
          "execution_count": 2
        }
      ]
    },
    {
      "cell_type": "code",
      "metadata": {
        "colab": {
          "base_uri": "https://localhost:8080/"
        },
        "id": "71hKgDjao486",
        "outputId": "31c4fec2-b0a5-4fe5-df48-7d76e1c06a2d"
      },
      "source": [
        "1>3"
      ],
      "execution_count": 3,
      "outputs": [
        {
          "output_type": "execute_result",
          "data": {
            "text/plain": [
              "False"
            ]
          },
          "metadata": {
            "tags": []
          },
          "execution_count": 3
        }
      ]
    },
    {
      "cell_type": "markdown",
      "metadata": {
        "id": "y-byAxDao-Aq"
      },
      "source": [
        "## Combining conditionals and If Statements\n",
        "* x and y: Both x and y must evaluate to True for true-result.\n",
        "* x or y: If x or y is true, result is true.\n",
        "* not x: Negate the value of x (True becomes False and vice versa)."
      ]
    },
    {
      "cell_type": "code",
      "metadata": {
        "colab": {
          "base_uri": "https://localhost:8080/"
        },
        "id": "acCKKI0ZpPXg",
        "outputId": "86ee86fa-5258-41cb-b226-49f219f51c6a"
      },
      "source": [
        "a = 77\n",
        "b = 200\n",
        "if b>a:\n",
        "    print('b is greater than a.')"
      ],
      "execution_count": 4,
      "outputs": [
        {
          "output_type": "stream",
          "text": [
            "b is greater than a.\n"
          ],
          "name": "stdout"
        }
      ]
    },
    {
      "cell_type": "code",
      "metadata": {
        "colab": {
          "base_uri": "https://localhost:8080/"
        },
        "id": "RyqwCI3QqjBf",
        "outputId": "f278d7b0-a168-4eb7-982b-e2c4d450653c"
      },
      "source": [
        "a = 77\n",
        "b = 200\n",
        "if b>a:\n",
        "    print('b is greater than a.')\n",
        "elif a == b:\n",
        "    print('a and b are equal.')"
      ],
      "execution_count": 5,
      "outputs": [
        {
          "output_type": "stream",
          "text": [
            "b is greater than a.\n"
          ],
          "name": "stdout"
        }
      ]
    },
    {
      "cell_type": "code",
      "metadata": {
        "colab": {
          "base_uri": "https://localhost:8080/"
        },
        "id": "inUBWSA_qxYb",
        "outputId": "3ad2a4f7-0db4-4c29-8df9-c485f28f1b0a"
      },
      "source": [
        "a = 77\n",
        "b = 200\n",
        "if b>a:\n",
        "    print('b is greater than a.')\n",
        "elif a == b:\n",
        "    print('a and b are equal.')\n",
        "else:\n",
        "    print('a is greater than b.')\n"
      ],
      "execution_count": 6,
      "outputs": [
        {
          "output_type": "stream",
          "text": [
            "b is greater than a.\n"
          ],
          "name": "stdout"
        }
      ]
    },
    {
      "cell_type": "code",
      "metadata": {
        "colab": {
          "base_uri": "https://localhost:8080/"
        },
        "id": "vLb9ISBPrFH1",
        "outputId": "974e3b28-eb5f-47a6-b1e2-af8208be2e97"
      },
      "source": [
        "a = 77\n",
        "b = 200\n",
        "print('A') if a>b else print('B') # one line if else statement"
      ],
      "execution_count": 7,
      "outputs": [
        {
          "output_type": "stream",
          "text": [
            "B\n"
          ],
          "name": "stdout"
        }
      ]
    },
    {
      "cell_type": "code",
      "metadata": {
        "colab": {
          "base_uri": "https://localhost:8080/"
        },
        "id": "sxWs3Oy1rYQc",
        "outputId": "8399d67e-e3ef-4bc5-9ef6-0b32f6b73dd8"
      },
      "source": [
        "a = 220\n",
        "b = 220\n",
        "print('A') if a>b else print('=') if a == b else print('B') # one line if else statement with 3 conditions."
      ],
      "execution_count": 8,
      "outputs": [
        {
          "output_type": "stream",
          "text": [
            "=\n"
          ],
          "name": "stdout"
        }
      ]
    },
    {
      "cell_type": "code",
      "metadata": {
        "colab": {
          "base_uri": "https://localhost:8080/"
        },
        "id": "wLwgRm7IroNx",
        "outputId": "7d884b1e-5201-43ff-defa-b94d84e88e14"
      },
      "source": [
        "a = 200\n",
        "b = 77\n",
        "c = 700\n",
        "if a>b and c>a:\n",
        "    print('Both conditions are True.')\n"
      ],
      "execution_count": 9,
      "outputs": [
        {
          "output_type": "stream",
          "text": [
            "Both conditions are True.\n"
          ],
          "name": "stdout"
        }
      ]
    },
    {
      "cell_type": "code",
      "metadata": {
        "colab": {
          "base_uri": "https://localhost:8080/"
        },
        "id": "2PlPxzVsr2Y6",
        "outputId": "89a1ebc7-633c-4e08-a029-5a9067423042"
      },
      "source": [
        "a = 70\n",
        "b = 22\n",
        "c = 770\n",
        "if a>b or a>c:\n",
        "    print('At least one of the conditions is True.')"
      ],
      "execution_count": 10,
      "outputs": [
        {
          "output_type": "stream",
          "text": [
            "At least one of the conditions is True.\n"
          ],
          "name": "stdout"
        }
      ]
    },
    {
      "cell_type": "code",
      "metadata": {
        "colab": {
          "base_uri": "https://localhost:8080/"
        },
        "id": "bLAivlTGsDbv",
        "outputId": "4187f5d3-4682-407d-a950-fde5aeec548d"
      },
      "source": [
        "x = 77\n",
        "if x>10:\n",
        "    print('Above ten,')\n",
        "    if x>20: #nested if\n",
        "        print('and also above 20!')\n",
        "    else:\n",
        "        print('but not above 20.')"
      ],
      "execution_count": 11,
      "outputs": [
        {
          "output_type": "stream",
          "text": [
            "Above ten,\n",
            "and also above 20!\n"
          ],
          "name": "stdout"
        }
      ]
    },
    {
      "cell_type": "code",
      "metadata": {
        "id": "PIrtQurjseSa"
      },
      "source": [
        "a = 77\n",
        "b = 220\n",
        "if b>a:\n",
        "    pass # the pass statement"
      ],
      "execution_count": 12,
      "outputs": []
    },
    {
      "cell_type": "markdown",
      "metadata": {
        "id": "b7FpIulkuYQh"
      },
      "source": [
        "## For Loops\n",
        "* A for loop is used for iterating over a sequence.\n",
        "* The for loop does not require an indexing variable to set beforehand."
      ]
    },
    {
      "cell_type": "code",
      "metadata": {
        "colab": {
          "base_uri": "https://localhost:8080/"
        },
        "id": "0GqTsqypuRfO",
        "outputId": "a0f6a8ec-2f9e-40e1-f3c0-edc7c54663e0"
      },
      "source": [
        "rocks = ['sandstone', 'basalt', 'breccia']\n",
        "for x in rocks:\n",
        "    print(x) # Print each rock in a rock list."
      ],
      "execution_count": 13,
      "outputs": [
        {
          "output_type": "stream",
          "text": [
            "sandstone\n",
            "basalt\n",
            "breccia\n"
          ],
          "name": "stdout"
        }
      ]
    },
    {
      "cell_type": "code",
      "metadata": {
        "colab": {
          "base_uri": "https://localhost:8080/"
        },
        "id": "-SDuxZ1avBVQ",
        "outputId": "cf06103d-b863-4951-8c4c-401b5474a81d"
      },
      "source": [
        "rocks = ['sandstone', 'basalt', 'breccia']\n",
        "for x in rocks:\n",
        "    print(x)\n",
        "    if x == 'basalt':\n",
        "        break # Exit the loop"
      ],
      "execution_count": 14,
      "outputs": [
        {
          "output_type": "stream",
          "text": [
            "sandstone\n",
            "basalt\n"
          ],
          "name": "stdout"
        }
      ]
    },
    {
      "cell_type": "code",
      "metadata": {
        "colab": {
          "base_uri": "https://localhost:8080/"
        },
        "id": "qYhOBbJQvgkF",
        "outputId": "078d1a69-4c8a-4fe0-ea7c-816351fc70d6"
      },
      "source": [
        "rocks = ['sandstone', 'basalt', 'breccia']\n",
        "for x in rocks:\n",
        "    if x == 'basalt':\n",
        "        break # Exit the loop when  is 'basalt', but the break comes before the print.\n",
        "    print(x)"
      ],
      "execution_count": 15,
      "outputs": [
        {
          "output_type": "stream",
          "text": [
            "sandstone\n"
          ],
          "name": "stdout"
        }
      ]
    },
    {
      "cell_type": "code",
      "metadata": {
        "colab": {
          "base_uri": "https://localhost:8080/"
        },
        "id": "nwrym_Uqv4ub",
        "outputId": "95ae332c-6c8f-48e0-9be2-483bffd2efb9"
      },
      "source": [
        "rocks = ['sandstone', 'basalt', 'breccia']\n",
        "for x in rocks:\n",
        "    if x == 'basalt':\n",
        "        continue\n",
        "    print(x)"
      ],
      "execution_count": 16,
      "outputs": [
        {
          "output_type": "stream",
          "text": [
            "sandstone\n",
            "breccia\n"
          ],
          "name": "stdout"
        }
      ]
    },
    {
      "cell_type": "markdown",
      "metadata": {
        "id": "BdeU8-G1wnHz"
      },
      "source": [
        "## The range() Function\n",
        "* The range() function returns a sequence of numbers, starting from 0 by default, and increments by 1 by default, and ends at a specified number.\n",
        "* The range() function defaults to increment the sequence by 1; however if is possible to specify the increment value by adding a third parameter."
      ]
    },
    {
      "cell_type": "code",
      "metadata": {
        "colab": {
          "base_uri": "https://localhost:8080/"
        },
        "id": "GXR0yfwpwlf8",
        "outputId": "d0c7be7d-c5e2-47ae-dfa1-a621db4eaac8"
      },
      "source": [
        "for x in range(7):\n",
        "    print(x)"
      ],
      "execution_count": 17,
      "outputs": [
        {
          "output_type": "stream",
          "text": [
            "0\n",
            "1\n",
            "2\n",
            "3\n",
            "4\n",
            "5\n",
            "6\n"
          ],
          "name": "stdout"
        }
      ]
    },
    {
      "cell_type": "code",
      "metadata": {
        "colab": {
          "base_uri": "https://localhost:8080/"
        },
        "id": "4OKyshKew_tR",
        "outputId": "8d1cf840-41f1-44a0-dc5b-54074cac5ad9"
      },
      "source": [
        "for x in range(2,7):\n",
        "    print(x)"
      ],
      "execution_count": 18,
      "outputs": [
        {
          "output_type": "stream",
          "text": [
            "2\n",
            "3\n",
            "4\n",
            "5\n",
            "6\n"
          ],
          "name": "stdout"
        }
      ]
    },
    {
      "cell_type": "code",
      "metadata": {
        "colab": {
          "base_uri": "https://localhost:8080/"
        },
        "id": "1mQzbhMExGpA",
        "outputId": "e7e836a3-5e7d-4917-a87e-881b34d73b2a"
      },
      "source": [
        "for x in range(2, 27, 3):\n",
        "    print(x)"
      ],
      "execution_count": 19,
      "outputs": [
        {
          "output_type": "stream",
          "text": [
            "2\n",
            "5\n",
            "8\n",
            "11\n",
            "14\n",
            "17\n",
            "20\n",
            "23\n",
            "26\n"
          ],
          "name": "stdout"
        }
      ]
    },
    {
      "cell_type": "markdown",
      "metadata": {
        "id": "mBrlTIu9xhsM"
      },
      "source": [
        "## Else in For Loop\n",
        "* The else keywod in a for loop specifies a block of code to be executed when the loop is finished.\n",
        "* The else block will not be executed if the loop is stopped by a break statement."
      ]
    },
    {
      "cell_type": "code",
      "metadata": {
        "colab": {
          "base_uri": "https://localhost:8080/"
        },
        "id": "jHplc6Dsxepo",
        "outputId": "16cb9465-ae34-4754-8862-a4d03428016c"
      },
      "source": [
        "for x in range(7):\n",
        "    print(x)\n",
        "else:\n",
        "    print('Finished.')"
      ],
      "execution_count": 20,
      "outputs": [
        {
          "output_type": "stream",
          "text": [
            "0\n",
            "1\n",
            "2\n",
            "3\n",
            "4\n",
            "5\n",
            "6\n",
            "Finished.\n"
          ],
          "name": "stdout"
        }
      ]
    },
    {
      "cell_type": "code",
      "metadata": {
        "colab": {
          "base_uri": "https://localhost:8080/"
        },
        "id": "0UxiyFJxyDK4",
        "outputId": "0899ff4e-87df-4d7b-ee19-0f0d713493a7"
      },
      "source": [
        "for x in range(7):\n",
        "    if x == 3: break\n",
        "    print(x)\n",
        "else:\n",
        "    print('Finished.')"
      ],
      "execution_count": 21,
      "outputs": [
        {
          "output_type": "stream",
          "text": [
            "0\n",
            "1\n",
            "2\n"
          ],
          "name": "stdout"
        }
      ]
    },
    {
      "cell_type": "code",
      "metadata": {
        "colab": {
          "base_uri": "https://localhost:8080/"
        },
        "id": "iTSXqnFuyoso",
        "outputId": "218b40cf-df42-47a0-d9df-db2c96c33f04"
      },
      "source": [
        "for x in range(1, 7):\n",
        "    print(x)\n",
        "    break\n",
        "else:\n",
        "    print('No break.')"
      ],
      "execution_count": 22,
      "outputs": [
        {
          "output_type": "stream",
          "text": [
            "1\n"
          ],
          "name": "stdout"
        }
      ]
    },
    {
      "cell_type": "markdown",
      "metadata": {
        "id": "OAqF_2Day7GK"
      },
      "source": [
        "## Nested Loops"
      ]
    },
    {
      "cell_type": "code",
      "metadata": {
        "colab": {
          "base_uri": "https://localhost:8080/"
        },
        "id": "kkXH4FDgy-dx",
        "outputId": "b4adb990-6083-443e-a43b-8090c446b43b"
      },
      "source": [
        "types = ['igneous', 'sedimentary', 'metamorphic']\n",
        "rocks = ['basalt', 'sandstone', 'gneiss']\n",
        "\n",
        "for x in types:\n",
        "    for y in rocks:\n",
        "        print(x, y)"
      ],
      "execution_count": 23,
      "outputs": [
        {
          "output_type": "stream",
          "text": [
            "igneous basalt\n",
            "igneous sandstone\n",
            "igneous gneiss\n",
            "sedimentary basalt\n",
            "sedimentary sandstone\n",
            "sedimentary gneiss\n",
            "metamorphic basalt\n",
            "metamorphic sandstone\n",
            "metamorphic gneiss\n"
          ],
          "name": "stdout"
        }
      ]
    },
    {
      "cell_type": "markdown",
      "metadata": {
        "id": "HJRauDDszeoK"
      },
      "source": [
        "## While Loops\n",
        "The while loop executes a set of statements as long as a condition is true."
      ]
    },
    {
      "cell_type": "code",
      "metadata": {
        "colab": {
          "base_uri": "https://localhost:8080/"
        },
        "id": "gvdV2tB7zdEc",
        "outputId": "1f5e7722-3b4e-4a90-8d1f-e8c87097cd9c"
      },
      "source": [
        "i = 1\n",
        "while i < 7:\n",
        "    print(i)\n",
        "    i +=1"
      ],
      "execution_count": 24,
      "outputs": [
        {
          "output_type": "stream",
          "text": [
            "1\n",
            "2\n",
            "3\n",
            "4\n",
            "5\n",
            "6\n"
          ],
          "name": "stdout"
        }
      ]
    },
    {
      "cell_type": "code",
      "metadata": {
        "colab": {
          "base_uri": "https://localhost:8080/"
        },
        "id": "NmX5a5hPz_XP",
        "outputId": "be4814f7-4157-46b6-b398-53e23d2912d1"
      },
      "source": [
        "i = 1\n",
        "while i < 7:\n",
        "    print(i)\n",
        "    if i == 3:\n",
        "        break\n",
        "    i +=1"
      ],
      "execution_count": 25,
      "outputs": [
        {
          "output_type": "stream",
          "text": [
            "1\n",
            "2\n",
            "3\n"
          ],
          "name": "stdout"
        }
      ]
    },
    {
      "cell_type": "code",
      "metadata": {
        "colab": {
          "base_uri": "https://localhost:8080/"
        },
        "id": "BFD8CyxW0UaO",
        "outputId": "bfc81ff2-0151-4ce2-a6dc-deba5121c5cc"
      },
      "source": [
        "i = 1\n",
        "while i < 7:\n",
        "    i +=1\n",
        "    if i == 3:\n",
        "        continue\n",
        "    print(i)"
      ],
      "execution_count": 26,
      "outputs": [
        {
          "output_type": "stream",
          "text": [
            "2\n",
            "4\n",
            "5\n",
            "6\n",
            "7\n"
          ],
          "name": "stdout"
        }
      ]
    },
    {
      "cell_type": "code",
      "metadata": {
        "colab": {
          "base_uri": "https://localhost:8080/"
        },
        "id": "p1zrwqDr0zsA",
        "outputId": "efd19c8c-7a95-46c4-9540-29e90f7b9208"
      },
      "source": [
        "i = 0\n",
        "while i < 7:\n",
        "    print(i)\n",
        "    i +=1\n",
        "else:\n",
        "    print('i is no longer less than 7.')"
      ],
      "execution_count": 27,
      "outputs": [
        {
          "output_type": "stream",
          "text": [
            "0\n",
            "1\n",
            "2\n",
            "3\n",
            "4\n",
            "5\n",
            "6\n",
            "i is no longer less than 7.\n"
          ],
          "name": "stdout"
        }
      ]
    }
  ]
}